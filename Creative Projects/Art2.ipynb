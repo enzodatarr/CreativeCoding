{
 "cells": [
  {
   "cell_type": "code",
   "execution_count": 1,
   "metadata": {},
   "outputs": [],
   "source": [
    "# make a geometric rainbow pattern\n",
    "import turtle\n",
    "# pick order of colors for the hexagon\n",
    "colors = ['red', 'yellow', 'blue', 'orange', \\\n",
    "'green', 'red']\n",
    "shelly = turtle.Turtle()\n",
    "turtle.bgcolor('black') # turn background black\n",
    "# make 36 hexagons, each 10 degrees apart\n",
    "for n in range(36):\n",
    "# make hexagon by repeating 6 times\n",
    "    for i in range(6):\n",
    "        shelly.color(colors[i]) # pick color at position i\n",
    "        shelly.forward(100)\n",
    "        shelly.left(60)\n",
    "    # add a turn before the next hexagon\n",
    "    shelly.right(10)\n",
    "\n",
    "# get ready to draw 36 circles\n",
    "shelly.penup()\n",
    "shelly.color('white')\n",
    "# repeat 36 times to match the 36 hexagons\n",
    "for i in range(36):\n",
    "    shelly.forward(220)\n",
    "    shelly.pendown()\n",
    "    shelly.circle(5)\n",
    "    shelly.penup()\n",
    "    shelly.backward(220)\n",
    "    shelly.right(10)\n",
    "# hide turtle to finish the drawing\n",
    "shelly.hideturtle()"
   ]
  }
 ],
 "metadata": {
  "interpreter": {
   "hash": "aee8b7b246df8f9039afb4144a1f6fd8d2ca17a180786b69acc140d282b71a49"
  },
  "kernelspec": {
   "display_name": "Python 3.10.0 64-bit",
   "language": "python",
   "name": "python3"
  },
  "language_info": {
   "codemirror_mode": {
    "name": "ipython",
    "version": 3
   },
   "file_extension": ".py",
   "mimetype": "text/x-python",
   "name": "python",
   "nbconvert_exporter": "python",
   "pygments_lexer": "ipython3",
   "version": "3.10.0"
  },
  "orig_nbformat": 4
 },
 "nbformat": 4,
 "nbformat_minor": 2
}
