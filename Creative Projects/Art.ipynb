{
 "cells": [
  {
   "cell_type": "markdown",
   "id": "04101cd3",
   "metadata": {},
   "source": [
    "# Creating art with python"
   ]
  },
  {
   "cell_type": "code",
   "execution_count": 2,
   "id": "01f29749",
   "metadata": {},
   "outputs": [],
   "source": [
    "# Making a Hexagon\n",
    "import turtle\n",
    "shelly = turtle.Turtle()\n",
    "\n",
    "# repeat 6 times - move forward and turn\n",
    "for i in range(6) :\n",
    "    shelly.forward(100)\n",
    "    shelly.left(60)"
   ]
  },
  {
   "cell_type": "code",
   "execution_count": 6,
   "id": "f313db3f",
   "metadata": {},
   "outputs": [],
   "source": [
    "# Making a Hexagon with a Nested Loop\n",
    "import turtle\n",
    "shelly = turtle.Turtle()\n",
    "for n in range(36) :\n",
    "    \n",
    "# repeat 6 times - move forward and turn\n",
    "    for i in range(6) :\n",
    "        shelly.forward(100)\n",
    "        shelly.left(60)\n",
    "        shelly.right(10) # add a turn"
   ]
  },
  {
   "cell_type": "code",
   "execution_count": 7,
   "id": "23e8f5f4",
   "metadata": {},
   "outputs": [],
   "source": [
    "# Change the background; Add Rainbow Colors\n",
    "turtle.bgcolor('blue')"
   ]
  },
  {
   "cell_type": "code",
   "execution_count": null,
   "id": "d692240e",
   "metadata": {},
   "outputs": [],
   "source": [
    "# get ready to draw 36 circles\n",
    "shelly.penup()\n",
    "shelly.color('white')\n",
    "# repeat 36 times to match the 36 hexagons\n",
    "for i in range(36):\n",
    "    shelly.forward(220)\n",
    "    shelly.pendown()\n",
    "    shelly.circle(5)\n",
    "    shelly.penup()\n",
    "    shelly.backward(220)\n",
    "    shelly.right(10)"
   ]
  },
  {
   "cell_type": "code",
   "execution_count": 1,
   "id": "fc8473f0",
   "metadata": {},
   "outputs": [],
   "source": [
    "# make a geometric rainbow pattern\n",
    "import turtle\n",
    "# pick order of colors for the hexagon\n",
    "colors = ['red', 'yellow', 'blue', 'orange', \\\n",
    "'green', 'red']\n",
    "shelly = turtle.Turtle()\n",
    "turtle.bgcolor('black') # turn background black\n",
    "# make 36 hexagons, each 10 degrees apart\n",
    "for n in range(36):\n",
    "# make hexagon by repeating 6 times\n",
    "    for i in range(6):\n",
    "        shelly.color(colors[i]) # pick color at position i\n",
    "        shelly.forward(100)\n",
    "        shelly.left(60)\n",
    "    # add a turn before the next hexagon\n",
    "    shelly.right(10)\n",
    "\n",
    "# get ready to draw 36 circles\n",
    "shelly.penup()\n",
    "shelly.color('white')\n",
    "# repeat 36 times to match the 36 hexagons\n",
    "for i in range(36):\n",
    "    shelly.forward(220)\n",
    "    shelly.pendown()\n",
    "    shelly.circle(5)\n",
    "    shelly.penup()\n",
    "    shelly.backward(220)\n",
    "    shelly.right(10)\n",
    "# hide turtle to finish the drawing\n",
    "shelly.hideturtle()"
   ]
  }
 ],
 "metadata": {
  "kernelspec": {
   "display_name": "Python 3 (ipykernel)",
   "language": "python",
   "name": "python3"
  },
  "language_info": {
   "codemirror_mode": {
    "name": "ipython",
    "version": 3
   },
   "file_extension": ".py",
   "mimetype": "text/x-python",
   "name": "python",
   "nbconvert_exporter": "python",
   "pygments_lexer": "ipython3",
   "version": "3.10.0"
  }
 },
 "nbformat": 4,
 "nbformat_minor": 5
}
